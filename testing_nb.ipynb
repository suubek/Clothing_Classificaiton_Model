{
 "cells": [
  {
   "cell_type": "code",
   "execution_count": 1,
   "id": "9ffd12e1",
   "metadata": {},
   "outputs": [],
   "source": [
    "# import process_data"
   ]
  },
  {
   "cell_type": "code",
   "execution_count": 2,
   "id": "bcccef1b",
   "metadata": {},
   "outputs": [],
   "source": [
    "import csv\n",
    "import torch\n",
    "from os.path import join\n",
    "\n",
    "class Dataformatting(object):\n",
    "    def __init__(self, path, filename, type):\n",
    "        self.filepath = join(path, filename)\n",
    "        self.type = type\n",
    "        self.length = None\n",
    "        self.seed = 21 \n",
    "\n",
    "    def read_images_labels(self, filepath):\n",
    "        labels = []\n",
    "        images = []\n",
    "        \n",
    "        with open(filepath, \"r\") as f:\n",
    "            file = csv.reader(f)\n",
    "            header = next(file)\n",
    "            \n",
    "            for lines in file:\n",
    "                lines = [float(item) for item in lines]\n",
    "                labels.append(lines[0])\n",
    "                image = torch.tensor(lines[1:])\n",
    "                images.append(image.view(1,28,28))\n",
    "        \n",
    "        # print(len(labels), len(images))\n",
    "        if len(labels) != len(images):\n",
    "            raise ValueError('Mismatched number of labels and images')\n",
    "\n",
    "        return images, labels\n",
    "\n",
    "    def load_data(self):\n",
    "        data, labels = self.read_images_labels(self.filepath)\n",
    "        return data, labels"
   ]
  },
  {
   "cell_type": "code",
   "execution_count": 4,
   "id": "390bba49",
   "metadata": {},
   "outputs": [],
   "source": [
    "file_path = r'A:\\Alsou Bek\\Documents\\programs\\Clothing_Classification_model\\data'\n",
    "train_filename = 'fashion-mnist_train.csv'\n",
    "test_filename = 'fashion-mnist_test.csv'\n",
    "\n",
    "train_dataformat = Dataformatting(file_path, train_filename, 'train')\n",
    "test_dataformat = Dataformatting(file_path, test_filename, 'test')\n",
    "train_data, train_labels = train_dataformat.load_data()\n",
    "test_data, test_labels = test_dataformat.load_data()\n"
   ]
  },
  {
   "cell_type": "code",
   "execution_count": 5,
   "id": "c69f2d1e",
   "metadata": {},
   "outputs": [],
   "source": [
    "train_data = [x/255 for x in train_data]\n",
    "test_data = [x/255 for x in test_data]"
   ]
  },
  {
   "cell_type": "code",
   "execution_count": 6,
   "id": "6cbacd39",
   "metadata": {},
   "outputs": [
    {
     "data": {
      "text/plain": [
       "tensor([[[0.0000, 0.0000, 0.0000, 0.0000, 0.0000, 0.0000, 0.0000, 0.0000,\n",
       "          0.0000, 0.0000, 0.0000, 0.0000, 0.0000, 0.0000, 0.0000, 0.0000,\n",
       "          0.0000, 0.0000, 0.0000, 0.0000, 0.0000, 0.0000, 0.0000, 0.0000,\n",
       "          0.0000, 0.0000, 0.0000, 0.0000],\n",
       "         [0.0000, 0.0000, 0.0000, 0.0000, 0.0000, 0.0000, 0.0000, 0.0000,\n",
       "          0.0000, 0.0000, 0.0000, 0.0000, 0.0000, 0.0000, 0.0000, 0.0000,\n",
       "          0.0000, 0.0000, 0.0000, 0.0000, 0.0000, 0.0000, 0.0000, 0.0000,\n",
       "          0.0000, 0.0000, 0.0000, 0.0000],\n",
       "         [0.0000, 0.0000, 0.0000, 0.0000, 0.0000, 0.0000, 0.0000, 0.0000,\n",
       "          0.0000, 0.0000, 0.0000, 0.0000, 0.0000, 0.0000, 0.0000, 0.0000,\n",
       "          0.0000, 0.0000, 0.0000, 0.0000, 0.0000, 0.0000, 0.0000, 0.0000,\n",
       "          0.0000, 0.0000, 0.0000, 0.0000],\n",
       "         [0.0000, 0.0000, 0.0000, 0.0000, 0.0157, 0.0000, 0.0000, 0.0000,\n",
       "          0.0000, 0.0000, 0.2431, 0.2392, 0.0824, 0.1137, 0.0902, 0.2000,\n",
       "          0.5333, 0.2392, 0.0000, 0.0000, 0.0000, 0.0000, 0.0000, 0.0000,\n",
       "          0.0000, 0.0000, 0.0000, 0.0000],\n",
       "         [0.0000, 0.0000, 0.0000, 0.0000, 0.0000, 0.0000, 0.0000, 0.3451,\n",
       "          0.7882, 0.8941, 0.8824, 1.0000, 0.4510, 0.2431, 0.5373, 1.0000,\n",
       "          0.9216, 0.8706, 1.0000, 0.5294, 0.0000, 0.0000, 0.0000, 0.0000,\n",
       "          0.0000, 0.0000, 0.0000, 0.0000],\n",
       "         [0.0000, 0.0000, 0.0000, 0.0000, 0.0000, 0.1843, 0.9882, 0.9176,\n",
       "          0.9333, 0.8784, 0.8431, 0.8431, 0.8980, 0.4235, 0.7059, 0.8118,\n",
       "          0.8392, 0.8784, 0.9059, 0.9765, 0.9961, 0.1765, 0.0000, 0.0000,\n",
       "          0.0000, 0.0000, 0.0000, 0.0000],\n",
       "         [0.0000, 0.0000, 0.0039, 0.0000, 0.0000, 0.8392, 0.8706, 0.8235,\n",
       "          0.8353, 0.8784, 0.8824, 0.8510, 0.8627, 0.9961, 0.9137, 0.8588,\n",
       "          0.8667, 0.8510, 0.8745, 0.8667, 0.9412, 0.9961, 0.0000, 0.0000,\n",
       "          0.0039, 0.0000, 0.0000, 0.0000],\n",
       "         [0.0039, 0.0000, 0.0000, 0.0000, 0.5020, 0.9294, 0.8118, 0.8784,\n",
       "          0.8784, 0.8118, 0.8471, 0.8392, 0.8235, 0.8157, 0.8275, 0.8667,\n",
       "          0.8157, 0.8588, 0.8353, 0.8863, 0.8275, 0.9294, 0.5882, 0.0000,\n",
       "          0.0000, 0.0000, 0.0000, 0.0000],\n",
       "         [0.0000, 0.0078, 0.0000, 0.0000, 0.9294, 0.8706, 0.8431, 0.8118,\n",
       "          0.8235, 0.8314, 0.8353, 0.8078, 0.8392, 0.8353, 0.8392, 0.8353,\n",
       "          0.8235, 0.8431, 0.8392, 0.8078, 0.7804, 0.8549, 1.0000, 0.0510,\n",
       "          0.0000, 0.0078, 0.0000, 0.0000],\n",
       "         [0.0000, 0.0157, 0.0000, 0.3333, 0.8941, 0.8235, 0.8549, 0.7843,\n",
       "          0.8275, 0.8157, 0.7961, 0.8431, 0.8235, 0.8196, 0.8196, 0.8235,\n",
       "          0.8353, 0.8275, 0.8235, 0.8510, 0.8078, 0.8353, 0.9059, 0.6863,\n",
       "          0.0000, 0.0000, 0.0000, 0.0000],\n",
       "         [0.0000, 0.0000, 0.0000, 0.8510, 0.8784, 0.8431, 0.8078, 0.8039,\n",
       "          0.8000, 0.8510, 0.9020, 0.8706, 0.8431, 0.8784, 0.9137, 0.8941,\n",
       "          0.9098, 0.8941, 0.8784, 0.8118, 0.8314, 0.8431, 0.8353, 0.8980,\n",
       "          0.1216, 0.0000, 0.0157, 0.0000],\n",
       "         [0.0039, 0.0000, 0.0824, 0.8824, 0.8314, 0.8314, 0.7961, 0.8275,\n",
       "          0.8824, 0.7569, 0.5451, 0.5333, 0.7647, 0.5765, 0.6118, 0.5451,\n",
       "          0.5020, 0.6353, 0.7725, 0.8745, 0.8118, 0.8627, 0.8353, 0.9098,\n",
       "          0.6941, 0.0000, 0.0000, 0.0000],\n",
       "         [0.0000, 0.0000, 0.4824, 0.8863, 0.8118, 0.8275, 0.8196, 0.8039,\n",
       "          0.8941, 0.6196, 0.3529, 0.4039, 0.7294, 0.5412, 0.3922, 0.4745,\n",
       "          0.5765, 0.6196, 0.7176, 0.8863, 0.8157, 0.8392, 0.8196, 0.8471,\n",
       "          1.0000, 0.0510, 0.0000, 0.0039],\n",
       "         [0.0000, 0.0000, 0.8863, 0.8588, 0.7922, 0.8157, 0.8078, 0.8039,\n",
       "          0.8471, 0.7216, 0.6118, 0.5882, 0.7569, 0.6667, 0.6431, 0.6588,\n",
       "          0.7373, 0.7294, 0.7843, 0.8588, 0.8471, 0.8353, 0.8353, 0.8275,\n",
       "          0.9137, 0.5804, 0.0000, 0.0000],\n",
       "         [0.0000, 0.1765, 0.8902, 0.8000, 0.8392, 0.8275, 0.8549, 0.8706,\n",
       "          0.8667, 0.9020, 0.8980, 0.8667, 0.8353, 0.8784, 0.9137, 0.8863,\n",
       "          0.8627, 0.8588, 0.8667, 0.8784, 0.8745, 0.8510, 0.8235, 0.8549,\n",
       "          0.8353, 0.9961, 0.0000, 0.0000],\n",
       "         [0.0000, 0.6157, 0.8863, 0.7961, 0.8118, 0.8275, 0.8196, 0.8431,\n",
       "          0.8039, 0.7765, 0.8118, 0.8157, 0.7882, 0.7882, 0.7725, 0.7961,\n",
       "          0.8039, 0.8235, 0.8118, 0.8353, 0.8392, 0.8392, 0.8392, 0.8353,\n",
       "          0.8157, 0.9176, 0.4196, 0.0000],\n",
       "         [0.0000, 0.9216, 0.8353, 0.8000, 0.8275, 0.8235, 0.8196, 0.8353,\n",
       "          0.7922, 0.7725, 0.8000, 0.8431, 0.8510, 0.8353, 0.8314, 0.8235,\n",
       "          0.8078, 0.8314, 0.7961, 0.8275, 0.8549, 0.8431, 0.8392, 0.8157,\n",
       "          0.8196, 0.8706, 0.9020, 0.0000],\n",
       "         [0.2039, 1.0000, 0.8118, 0.7843, 0.8157, 0.8353, 0.8235, 0.8235,\n",
       "          0.8157, 0.8118, 0.7922, 0.7882, 0.8196, 0.8471, 0.8471, 0.8471,\n",
       "          0.8471, 0.8392, 0.8314, 0.8039, 0.8431, 0.7882, 0.8941, 0.8157,\n",
       "          0.8392, 0.8314, 0.8549, 0.0980],\n",
       "         [0.4627, 0.8510, 0.7882, 0.8078, 0.8157, 0.8353, 0.8157, 0.8039,\n",
       "          0.8078, 0.8235, 0.8275, 0.7922, 0.7804, 0.8118, 0.8157, 0.8196,\n",
       "          0.8235, 0.8118, 0.8235, 0.8235, 0.9608, 0.5451, 0.4667, 1.0000,\n",
       "          0.7922, 0.7961, 0.9255, 0.4471],\n",
       "         [0.6706, 0.9333, 0.8314, 0.7961, 0.8627, 0.8471, 0.8510, 0.8196,\n",
       "          0.8118, 0.8039, 0.8235, 0.8275, 0.8078, 0.8000, 0.8078, 0.8196,\n",
       "          0.8275, 0.8431, 0.8235, 0.8078, 0.8667, 0.9490, 0.0000, 0.8784,\n",
       "          0.9176, 0.9020, 0.7098, 0.1020],\n",
       "         [0.1529, 0.5686, 0.7882, 1.0000, 0.6157, 0.4510, 0.9804, 0.7843,\n",
       "          0.8118, 0.8078, 0.8118, 0.8353, 0.8471, 0.8078, 0.8039, 0.8078,\n",
       "          0.8118, 0.8078, 0.8431, 0.8118, 0.8667, 0.9333, 0.0000, 0.0000,\n",
       "          0.7373, 0.3333, 0.0000, 0.0000],\n",
       "         [0.0000, 0.0000, 0.0000, 0.1216, 0.0000, 0.5059, 0.9922, 0.7451,\n",
       "          0.8118, 0.8157, 0.8157, 0.8157, 0.8196, 0.8275, 0.8275, 0.8196,\n",
       "          0.8196, 0.8196, 0.8314, 0.7882, 0.8863, 0.6471, 0.0000, 0.0000,\n",
       "          0.0000, 0.0000, 0.0000, 0.0000],\n",
       "         [0.0078, 0.0000, 0.0000, 0.0000, 0.0000, 0.3490, 0.9961, 0.7804,\n",
       "          0.7804, 0.7529, 0.7686, 0.7765, 0.7804, 0.7882, 0.7922, 0.7961,\n",
       "          0.8000, 0.7961, 0.7961, 0.7843, 0.8706, 0.6078, 0.0000, 0.0118,\n",
       "          0.0118, 0.0118, 0.0078, 0.0000],\n",
       "         [0.0000, 0.0000, 0.0039, 0.0196, 0.0000, 0.0000, 1.0000, 0.8549,\n",
       "          0.8863, 0.9098, 0.8941, 0.8784, 0.8706, 0.8627, 0.8588, 0.8588,\n",
       "          0.8510, 0.8667, 0.8627, 0.8314, 0.9255, 0.3725, 0.0000, 0.0078,\n",
       "          0.0000, 0.0000, 0.0000, 0.0000],\n",
       "         [0.0000, 0.0000, 0.0000, 0.0000, 0.0000, 0.0000, 0.6078, 0.7608,\n",
       "          0.6588, 0.6667, 0.6706, 0.6784, 0.6784, 0.7020, 0.6941, 0.6863,\n",
       "          0.6745, 0.6706, 0.6549, 0.6314, 0.7059, 0.0000, 0.0000, 0.0039,\n",
       "          0.0000, 0.0039, 0.0000, 0.0000],\n",
       "         [0.0000, 0.0000, 0.0000, 0.0000, 0.0000, 0.0000, 0.0000, 0.0000,\n",
       "          0.0000, 0.0000, 0.0000, 0.0000, 0.0000, 0.0000, 0.0000, 0.0000,\n",
       "          0.0000, 0.0000, 0.0000, 0.0000, 0.0000, 0.0000, 0.0000, 0.0000,\n",
       "          0.0000, 0.0000, 0.0000, 0.0000],\n",
       "         [0.0000, 0.0000, 0.0000, 0.0000, 0.0000, 0.0000, 0.0000, 0.0000,\n",
       "          0.0000, 0.0000, 0.0000, 0.0000, 0.0000, 0.0000, 0.0000, 0.0000,\n",
       "          0.0000, 0.0000, 0.0000, 0.0000, 0.0000, 0.0000, 0.0000, 0.0000,\n",
       "          0.0000, 0.0000, 0.0000, 0.0000],\n",
       "         [0.0000, 0.0000, 0.0000, 0.0000, 0.0000, 0.0000, 0.0000, 0.0000,\n",
       "          0.0000, 0.0000, 0.0000, 0.0000, 0.0000, 0.0000, 0.0000, 0.0000,\n",
       "          0.0000, 0.0000, 0.0000, 0.0000, 0.0000, 0.0000, 0.0000, 0.0000,\n",
       "          0.0000, 0.0000, 0.0000, 0.0000]]])"
      ]
     },
     "execution_count": 6,
     "metadata": {},
     "output_type": "execute_result"
    }
   ],
   "source": [
    "train_data[0]"
   ]
  },
  {
   "cell_type": "code",
   "execution_count": 7,
   "id": "5be8099b",
   "metadata": {},
   "outputs": [],
   "source": [
    "import process_to_dataset"
   ]
  },
  {
   "cell_type": "code",
   "execution_count": 8,
   "id": "cf92c77c",
   "metadata": {},
   "outputs": [],
   "source": [
    "dataset = process_to_dataset.MyDataset(train_data, train_labels)\n",
    "test_dataset = process_to_dataset.MyDataset(test_data, test_labels)"
   ]
  },
  {
   "cell_type": "code",
   "execution_count": 9,
   "id": "8da85dbb",
   "metadata": {},
   "outputs": [
    {
     "data": {
      "text/plain": [
       "60000"
      ]
     },
     "execution_count": 9,
     "metadata": {},
     "output_type": "execute_result"
    }
   ],
   "source": [
    "dataset.__len__()"
   ]
  },
  {
   "cell_type": "code",
   "execution_count": 10,
   "id": "a37f79ac",
   "metadata": {},
   "outputs": [],
   "source": [
    "from torch.utils.data import random_split\n",
    "\n",
    "generator = torch.Generator().manual_seed(10)\n",
    "train_dataset, val_dataset = random_split(dataset, [50000, 10000], generator=generator)"
   ]
  },
  {
   "cell_type": "code",
   "execution_count": 17,
   "id": "64d46db3",
   "metadata": {},
   "outputs": [],
   "source": [
    "num_freq = {0:0, 1:0, 2:0, 3:0, 4:0, 5:0, 6:0, 7:0, 8:0, 9:0}\n",
    "\n",
    "for (data, label) in train_dataset:\n",
    "    num_freq[int(label)] = num_freq[int(label)] + 1"
   ]
  },
  {
   "cell_type": "code",
   "execution_count": 18,
   "id": "00d9145b",
   "metadata": {},
   "outputs": [
    {
     "data": {
      "image/png": "[encoded data removed]",
      "text/plain": [
       "<Figure size 640x480 with 1 Axes>"
      ]
     },
     "metadata": {},
     "output_type": "display_data"
    }
   ],
   "source": [
    "import matplotlib.pyplot as plt\n",
    "\n",
    "plt.bar(num_freq.keys(), num_freq.values())\n",
    "plt.title('number frequency')\n",
    "plt.xlabel('numbers')\n",
    "plt.ylabel('count')\n",
    "plt.show()"
   ]
  },
  {
   "cell_type": "code",
   "execution_count": 19,
   "id": "67ba5e9e",
   "metadata": {},
   "outputs": [],
   "source": [
    "import torch.optim as optim\n",
    "from torch import nn\n",
    "from torch.utils.data import DataLoader"
   ]
  },
  {
   "cell_type": "code",
   "execution_count": 20,
   "id": "cb912e80",
   "metadata": {},
   "outputs": [],
   "source": [
    "batch_size = 64\n",
    "train_dataloader = DataLoader(train_dataset, batch_size=batch_size, shuffle=True)\n",
    "validation_dataloader = DataLoader(val_dataset, batch_size=batch_size, shuffle=True)\n",
    "test_dataloader = DataLoader(test_dataset, batch_size=batch_size)"
   ]
  },
  {
   "cell_type": "code",
   "execution_count": 21,
   "id": "56e6b38c",
   "metadata": {},
   "outputs": [],
   "source": [
    "import models"
   ]
  },
  {
   "cell_type": "code",
   "execution_count": 22,
   "id": "5764aa38",
   "metadata": {},
   "outputs": [],
   "source": [
    "net = models.ConvNN()"
   ]
  },
  {
   "cell_type": "code",
   "execution_count": 23,
   "id": "0663c9b1",
   "metadata": {},
   "outputs": [],
   "source": [
    "criterion = nn.CrossEntropyLoss()\n",
    "optimizer = optim.SGD(net.parameters(), lr=0.001,momentum=0.9)"
   ]
  },
  {
   "cell_type": "code",
   "execution_count": 24,
   "id": "d1a91caf",
   "metadata": {},
   "outputs": [
    {
     "name": "stdout",
     "output_type": "stream",
     "text": [
      "Finished Training\n"
     ]
    }
   ],
   "source": [
    "losses = []\n",
    "validation_losses = []\n",
    "for epoch in range(50):  # loop over the dataset multiple times\n",
    "\n",
    "    running_loss = 0.0\n",
    "    avg_loss = 0\n",
    "    validation_avg_loss = 0\n",
    "    for i, data in enumerate(train_dataloader, 0):\n",
    "        # get the inputs; data is a list of [inputs, labels]\n",
    "        inputs, labels = data\n",
    "\n",
    "        # zero the parameter gradients\n",
    "        optimizer.zero_grad()\n",
    "\n",
    "        # forward + backward + optimize\n",
    "        outputs = net(inputs)\n",
    "        loss = criterion(outputs, labels)\n",
    "        loss.backward()\n",
    "        optimizer.step()\n",
    "\n",
    "        avg_loss += loss.item()\n",
    "\n",
    "        # print statistics\n",
    "        # running_loss += loss.item()\n",
    "        # if (i+1) % 25 == 0:    # print every 2000 mini-batches\n",
    "        #     print(f'[{epoch + 1}, {i + 1:5d}] loss: {running_loss / 25:.3f}')\n",
    "        #     running_loss = 0.0\n",
    "            \n",
    "    losses.append(avg_loss)\n",
    "\n",
    "    with torch.no_grad():\n",
    "        for i, data in enumerate(validation_dataloader, 0):\n",
    "            # get the inputs; data is a list of [inputs, labels]\n",
    "            inputs, labels = data\n",
    "            outputs = net(inputs)\n",
    "            validation_loss = criterion(outputs, labels)\n",
    "\n",
    "            validation_avg_loss += validation_loss.item()\n",
    "            \n",
    "    validation_losses.append(validation_avg_loss/(i+1))\n",
    "\n",
    "print('Finished Training')"
   ]
  },
  {
   "cell_type": "code",
   "execution_count": 25,
   "id": "4e0c5007",
   "metadata": {},
   "outputs": [],
   "source": [
    "PATH = './cifar_net.pth'\n",
    "torch.save(net.state_dict(), PATH)"
   ]
  },
  {
   "cell_type": "code",
   "execution_count": 26,
   "id": "c9c4276e",
   "metadata": {},
   "outputs": [],
   "source": [
    "import matplotlib.pyplot as plt"
   ]
  },
  {
   "cell_type": "code",
   "execution_count": 27,
   "id": "04fe637f",
   "metadata": {},
   "outputs": [
    {
     "data": {
      "image/png": "[encoded data removed]",
      "text/plain": [
       "<Figure size 640x480 with 1 Axes>"
      ]
     },
     "metadata": {},
     "output_type": "display_data"
    }
   ],
   "source": [
    "plt.plot(losses)\n",
    "plt.plot(validation_losses)\n",
    "plt.xlabel('Epochs')\n",
    "plt.ylabel('Loss')\n",
    "plt.title('Training and validation Loss')\n",
    "# plt.yscale('log')\n",
    "plt.show()"
   ]
  },
  {
   "cell_type": "code",
   "execution_count": 28,
   "id": "4a9e6f21",
   "metadata": {},
   "outputs": [],
   "source": [
    "dataiter = iter(train_dataloader)\n",
    "images, labels = next(dataiter)"
   ]
  },
  {
   "cell_type": "code",
   "execution_count": 29,
   "id": "49f1a0f9",
   "metadata": {},
   "outputs": [
    {
     "data": {
      "text/plain": [
       "<All keys matched successfully>"
      ]
     },
     "execution_count": 29,
     "metadata": {},
     "output_type": "execute_result"
    }
   ],
   "source": [
    "net = models.ConvNN()\n",
    "net.load_state_dict(torch.load(PATH, weights_only=True))"
   ]
  },
  {
   "cell_type": "code",
   "execution_count": 30,
   "id": "718173cf",
   "metadata": {},
   "outputs": [],
   "source": [
    "outputs = net(images)"
   ]
  },
  {
   "cell_type": "code",
   "execution_count": 31,
   "id": "d26d4ff4",
   "metadata": {},
   "outputs": [
    {
     "name": "stdout",
     "output_type": "stream",
     "text": [
      "Accuracy of the network on the 10000 test images: 89.32 %\n"
     ]
    }
   ],
   "source": [
    "correct = 0\n",
    "total = 0\n",
    "\n",
    "# since we're not training, we don't need to calculate the gradients for our outputs\n",
    "with torch.no_grad():\n",
    "    for data in test_dataloader:\n",
    "        images, labels = data\n",
    "        # calculate outputs by running images through the network\n",
    "        outputs = net(images)\n",
    "        # print(outputs)\n",
    "        # the class with the highest energy is what we choose as prediction\n",
    "        _, predicted = torch.max(outputs, 1)\n",
    "        \n",
    "        total += labels.size(0)\n",
    "        correct += (predicted == labels).sum().item()\n",
    "        # break\n",
    "\n",
    "print(f'Accuracy of the network on the 10000 test images: {100 * correct / total} %')"
   ]
  },
  {
   "cell_type": "code",
   "execution_count": 32,
   "id": "0b0af748",
   "metadata": {},
   "outputs": [
    {
     "name": "stdout",
     "output_type": "stream",
     "text": [
      "tensor([5, 0, 6, 6, 7, 9, 7, 9, 4, 8])\n",
      "tensor([5, 0, 0, 6, 7, 9, 7, 9, 4, 8])\n"
     ]
    }
   ],
   "source": [
    "print(predicted[0:10])\n",
    "print(labels[0:10])"
   ]
  },
  {
   "cell_type": "code",
   "execution_count": 33,
   "id": "64528ff4",
   "metadata": {},
   "outputs": [],
   "source": [
    "categories = {0: 'T-shirt/top',\n",
    "            1: 'Trouser',\n",
    "            2: 'Pullover',\n",
    "            3: 'Dress',\n",
    "            4: 'Coat',\n",
    "            5: 'Sandal',\n",
    "            6: 'Shirt',\n",
    "            7: 'Sneaker',\n",
    "            8: 'Bag',\n",
    "            9: 'Ankle boot'}"
   ]
  }
 ],
 "metadata": {
  "kernelspec": {
   "display_name": "venv (3.13.9)",
   "language": "python",
   "name": "python3"
  },
  "language_info": {
   "codemirror_mode": {
    "name": "ipython",
    "version": 3
   },
   "file_extension": ".py",
   "mimetype": "text/x-python",
   "name": "python",
   "nbconvert_exporter": "python",
   "pygments_lexer": "ipython3",
   "version": "3.13.9"
  }
 },
 "nbformat": 4,
 "nbformat_minor": 5
}
