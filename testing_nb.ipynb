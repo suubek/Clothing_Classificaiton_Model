{
 "cells": [
  {
   "cell_type": "code",
   "execution_count": 1,
   "id": "9ffd12e1",
   "metadata": {},
   "outputs": [],
   "source": [
    "import process_data"
   ]
  },
  {
   "cell_type": "code",
   "execution_count": 2,
   "id": "bcccef1b",
   "metadata": {},
   "outputs": [],
   "source": [
    "import csv\n",
    "import torch\n",
    "import numpy as np\n",
    "from os.path import join\n",
    "\n",
    "class Dataloader(object):\n",
    "    def __init__(self, path, train_filename, test_filename):\n",
    "        self.train_filepath = join(path, train_filename)\n",
    "        self.test_filepath = join(path, test_filename)\n",
    "    \n",
    "    def read_images_labels(self, image_filepath):\n",
    "        labels = []\n",
    "        images = []\n",
    "\n",
    "        with open(image_filepath, \"r\") as f:\n",
    "            file = csv.reader(f)\n",
    "            header = next(file)\n",
    "            \n",
    "            for lines in file:\n",
    "                lines = [float(item) for item in lines]\n",
    "                labels.append(lines[0])\n",
    "                image = torch.tensor(lines[1:])\n",
    "                images.append(image.view(1,28,28))\n",
    "        \n",
    "        # print(len(labels), len(images))\n",
    "        if len(labels) != len(images):\n",
    "            raise ValueError('Mismatched number of labels and images')\n",
    "\n",
    "        return images, labels\n",
    "\n",
    "    def load_data(self):\n",
    "        train_data, train_labels = self.read_images_labels(self.train_filepath)\n",
    "        test_data, test_labels = self.read_images_labels(self.test_filepath)\n",
    "        return (train_data, train_labels), (test_data, test_labels)"
   ]
  },
  {
   "cell_type": "code",
   "execution_count": 3,
   "id": "390bba49",
   "metadata": {},
   "outputs": [],
   "source": [
    "file_path = r'A:\\Alsou Bek\\Documents\\programs\\Clothing_Classification_model\\data'\n",
    "train_filename = 'fashion-mnist_train.csv'\n",
    "test_filename = 'fashion-mnist_test.csv'\n",
    "\n",
    "dataloader = Dataloader(file_path, train_filename, test_filename)\n",
    "(train_data, train_labels), (test_data, test_labels) = dataloader.load_data()"
   ]
  },
  {
   "cell_type": "code",
   "execution_count": 4,
   "id": "6cbacd39",
   "metadata": {},
   "outputs": [
    {
     "data": {
      "text/plain": [
       "torch.Size([1, 28, 28])"
      ]
     },
     "execution_count": 4,
     "metadata": {},
     "output_type": "execute_result"
    }
   ],
   "source": [
    "train_data[0].shape"
   ]
  },
  {
   "cell_type": "code",
   "execution_count": 5,
   "id": "5be8099b",
   "metadata": {},
   "outputs": [],
   "source": [
    "import process_to_dataset"
   ]
  },
  {
   "cell_type": "code",
   "execution_count": 6,
   "id": "cf92c77c",
   "metadata": {},
   "outputs": [],
   "source": [
    "train_dataset = process_to_dataset.MyDataset(train_data, train_labels)\n",
    "test_dataset = process_to_dataset.MyDataset(test_data, test_labels)"
   ]
  },
  {
   "cell_type": "code",
   "execution_count": 7,
   "id": "67ba5e9e",
   "metadata": {},
   "outputs": [],
   "source": [
    "import torch\n",
    "import torch.optim as optim\n",
    "from torch import nn\n",
    "from torch.utils.data import DataLoader"
   ]
  },
  {
   "cell_type": "code",
   "execution_count": 8,
   "id": "cb912e80",
   "metadata": {},
   "outputs": [],
   "source": [
    "batch_size = 64\n",
    "train_dataloader = DataLoader(train_dataset, batch_size=batch_size, shuffle=True)\n",
    "test_dataloader = DataLoader(test_dataset, batch_size=batch_size)"
   ]
  },
  {
   "cell_type": "code",
   "execution_count": 9,
   "id": "56e6b38c",
   "metadata": {},
   "outputs": [],
   "source": [
    "import models"
   ]
  },
  {
   "cell_type": "code",
   "execution_count": 10,
   "id": "5764aa38",
   "metadata": {},
   "outputs": [],
   "source": [
    "net = models.ConvNN()"
   ]
  },
  {
   "cell_type": "code",
   "execution_count": 11,
   "id": "0663c9b1",
   "metadata": {},
   "outputs": [],
   "source": [
    "criterion = nn.CrossEntropyLoss()\n",
    "optimizer = optim.SGD(net.parameters(), lr=0.001, momentum=0.9)"
   ]
  },
  {
   "cell_type": "code",
   "execution_count": null,
   "id": "d1a91caf",
   "metadata": {},
   "outputs": [
    {
     "name": "stdout",
     "output_type": "stream",
     "text": [
      "Finished Training\n"
     ]
    }
   ],
   "source": [
    "for epoch in range(10):  # loop over the dataset multiple times\n",
    "\n",
    "    running_loss = 0.0\n",
    "    avg_loss = 0\n",
    "    losses = []\n",
    "    for i, data in enumerate(train_dataloader, 0):\n",
    "        # get the inputs; data is a list of [inputs, labels]\n",
    "        inputs, labels = data\n",
    "\n",
    "        # zero the parameter gradients\n",
    "        optimizer.zero_grad()\n",
    "\n",
    "        # forward + backward + optimize\n",
    "        outputs = net(inputs)\n",
    "        loss = criterion(outputs, labels)\n",
    "        loss.backward()\n",
    "        optimizer.step()\n",
    "\n",
    "        avg_loss += loss.item()\n",
    "\n",
    "        # print statistics\n",
    "        # running_loss += loss.item()\n",
    "        # if (i+1) % 25 == 0:    # print every 2000 mini-batches\n",
    "        #     print(f'[{epoch + 1}, {i + 1:5d}] loss: {running_loss / 25:.3f}')\n",
    "        #     running_loss = 0.0\n",
    "            \n",
    "    losses.append()\n",
    "\n",
    "print('Finished Training')"
   ]
  },
  {
   "cell_type": "code",
   "execution_count": 13,
   "id": "4e0c5007",
   "metadata": {},
   "outputs": [],
   "source": [
    "PATH = './cifar_net.pth'\n",
    "torch.save(net.state_dict(), PATH)"
   ]
  },
  {
   "cell_type": "code",
   "execution_count": 14,
   "id": "c9c4276e",
   "metadata": {},
   "outputs": [],
   "source": [
    "import matplotlib as plt"
   ]
  },
  {
   "cell_type": "code",
   "execution_count": 15,
   "id": "4a9e6f21",
   "metadata": {},
   "outputs": [],
   "source": [
    "dataiter = iter(train_dataloader)\n",
    "images, labels = next(dataiter)"
   ]
  },
  {
   "cell_type": "code",
   "execution_count": 16,
   "id": "49f1a0f9",
   "metadata": {},
   "outputs": [
    {
     "data": {
      "text/plain": [
       "<All keys matched successfully>"
      ]
     },
     "execution_count": 16,
     "metadata": {},
     "output_type": "execute_result"
    }
   ],
   "source": [
    "net = models.ConvNN()\n",
    "net.load_state_dict(torch.load(PATH, weights_only=True))"
   ]
  },
  {
   "cell_type": "code",
   "execution_count": 17,
   "id": "718173cf",
   "metadata": {},
   "outputs": [],
   "source": [
    "outputs = net(images)"
   ]
  },
  {
   "cell_type": "code",
   "execution_count": 18,
   "id": "d26d4ff4",
   "metadata": {},
   "outputs": [
    {
     "name": "stdout",
     "output_type": "stream",
     "text": [
      "Accuracy of the network on the 10000 test images: 90.28 %\n"
     ]
    }
   ],
   "source": [
    "correct = 0\n",
    "total = 0\n",
    "\n",
    "# since we're not training, we don't need to calculate the gradients for our outputs\n",
    "with torch.no_grad():\n",
    "    for data in test_dataloader:\n",
    "        images, labels = data\n",
    "        # calculate outputs by running images through the network\n",
    "        outputs = net(images)\n",
    "        # the class with the highest energy is what we choose as prediction\n",
    "        _, predicted = torch.max(outputs, 1)\n",
    "        total += labels.size(0)\n",
    "        correct += (predicted == labels).sum().item()\n",
    "\n",
    "print(f'Accuracy of the network on the 10000 test images: {100 * correct / total} %')"
   ]
  },
  {
   "cell_type": "code",
   "execution_count": null,
   "id": "64528ff4",
   "metadata": {},
   "outputs": [
    {
     "ename": "",
     "evalue": "",
     "output_type": "error",
     "traceback": [
      "\u001b[1;31mThe Kernel crashed while executing code in the current cell or a previous cell. \n",
      "\u001b[1;31mPlease review the code in the cell(s) to identify a possible cause of the failure. \n",
      "\u001b[1;31mClick <a href='https://aka.ms/vscodeJupyterKernelCrash'>here</a> for more info. \n",
      "\u001b[1;31mView Jupyter <a href='command:jupyter.viewOutput'>log</a> for further details."
     ]
    }
   ],
   "source": [
    "categories = {0: 'T-shirt/top',\n",
    "            1: 'Trouser',\n",
    "            2: 'Pullover',\n",
    "            3: 'Dress',\n",
    "            4: 'Coat',\n",
    "            5: 'Sandal',\n",
    "            6: 'Shirt',\n",
    "            7: 'Sneaker',\n",
    "            8: 'Bag',\n",
    "            9: 'Ankle boot'}"
   ]
  }
 ],
 "metadata": {
  "kernelspec": {
   "display_name": "venv (3.9.13)",
   "language": "python",
   "name": "python3"
  },
  "language_info": {
   "codemirror_mode": {
    "name": "ipython",
    "version": 3
   },
   "file_extension": ".py",
   "mimetype": "text/x-python",
   "name": "python",
   "nbconvert_exporter": "python",
   "pygments_lexer": "ipython3",
   "version": "3.9.13"
  }
 },
 "nbformat": 4,
 "nbformat_minor": 5
}
